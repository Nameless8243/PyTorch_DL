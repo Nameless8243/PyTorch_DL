{
  "nbformat": 4,
  "nbformat_minor": 0,
  "metadata": {
    "colab": {
      "provenance": [],
      "gpuType": "T4",
      "authorship_tag": "ABX9TyOCRVgXENuaIVzMSnWmq/N0",
      "include_colab_link": true
    },
    "kernelspec": {
      "name": "python3",
      "display_name": "Python 3"
    },
    "language_info": {
      "name": "python"
    },
    "accelerator": "GPU"
  },
  "cells": [
    {
      "cell_type": "markdown",
      "metadata": {
        "id": "view-in-github",
        "colab_type": "text"
      },
      "source": [
        "<a href=\"https://colab.research.google.com/github/Nameless8243/PyTorch_DL/blob/main/00_pytorch_exercises.ipynb\" target=\"_parent\"><img src=\"https://colab.research.google.com/assets/colab-badge.svg\" alt=\"Open In Colab\"/></a>"
      ]
    },
    {
      "cell_type": "code",
      "execution_count": 1,
      "metadata": {
        "id": "6VVcQvOirW6e"
      },
      "outputs": [],
      "source": [
        "import torch"
      ]
    },
    {
      "cell_type": "markdown",
      "source": [
        "https://www.learnpytorch.io/00_pytorch_fundamentals/"
      ],
      "metadata": {
        "id": "_Yl9M7CWrhEa"
      }
    },
    {
      "cell_type": "code",
      "source": [
        "random_seed = 42\n",
        "torch.manual_seed(random_seed)\n",
        "tensor_A = torch.rand(7, 7)\n",
        "tensor_B = torch.rand(1, 7)\n",
        "\n",
        "print(f\"Tensor B:\\n{tensor_A}\\n\")\n",
        "print(f\"Tensor A:\\n{tensor_B}\")"
      ],
      "metadata": {
        "colab": {
          "base_uri": "https://localhost:8080/"
        },
        "id": "SSi-5ss3r-7S",
        "outputId": "8b693c6c-83f4-4808-9779-aa7c31e0bc48"
      },
      "execution_count": 2,
      "outputs": [
        {
          "output_type": "stream",
          "name": "stdout",
          "text": [
            "Tensor B:\n",
            "tensor([[0.8823, 0.9150, 0.3829, 0.9593, 0.3904, 0.6009, 0.2566],\n",
            "        [0.7936, 0.9408, 0.1332, 0.9346, 0.5936, 0.8694, 0.5677],\n",
            "        [0.7411, 0.4294, 0.8854, 0.5739, 0.2666, 0.6274, 0.2696],\n",
            "        [0.4414, 0.2969, 0.8317, 0.1053, 0.2695, 0.3588, 0.1994],\n",
            "        [0.5472, 0.0062, 0.9516, 0.0753, 0.8860, 0.5832, 0.3376],\n",
            "        [0.8090, 0.5779, 0.9040, 0.5547, 0.3423, 0.6343, 0.3644],\n",
            "        [0.7104, 0.9464, 0.7890, 0.2814, 0.7886, 0.5895, 0.7539]])\n",
            "\n",
            "Tensor A:\n",
            "tensor([[0.1952, 0.0050, 0.3068, 0.1165, 0.9103, 0.6440, 0.7071]])\n"
          ]
        }
      ]
    },
    {
      "cell_type": "code",
      "source": [
        "print(f\"Tensor B:\\n{tensor_B}\\n\")\n",
        "print(f\"Tensor B.T:\\n{tensor_B.T}\")"
      ],
      "metadata": {
        "colab": {
          "base_uri": "https://localhost:8080/"
        },
        "id": "_Wwz26_c0kZC",
        "outputId": "1db1f7f5-6131-45c0-dd8c-1e3bcd682eb7"
      },
      "execution_count": 3,
      "outputs": [
        {
          "output_type": "stream",
          "name": "stdout",
          "text": [
            "Tensor B:\n",
            "tensor([[0.1952, 0.0050, 0.3068, 0.1165, 0.9103, 0.6440, 0.7071]])\n",
            "\n",
            "Tensor B.T:\n",
            "tensor([[0.1952],\n",
            "        [0.0050],\n",
            "        [0.3068],\n",
            "        [0.1165],\n",
            "        [0.9103],\n",
            "        [0.6440],\n",
            "        [0.7071]])\n"
          ]
        }
      ]
    },
    {
      "cell_type": "code",
      "source": [
        "torch.mm(tensor_A, tensor_B.T)"
      ],
      "metadata": {
        "colab": {
          "base_uri": "https://localhost:8080/"
        },
        "id": "OgF2gaREx-Ux",
        "outputId": "086ca67c-3259-4120-e45d-86b7bb8eaab6"
      },
      "execution_count": 4,
      "outputs": [
        {
          "output_type": "execute_result",
          "data": {
            "text/plain": [
              "tensor([[1.3299],\n",
              "        [1.8111],\n",
              "        [1.3228],\n",
              "        [0.9725],\n",
              "        [1.8285],\n",
              "        [1.4806],\n",
              "        [2.0489]])"
            ]
          },
          "metadata": {},
          "execution_count": 4
        }
      ]
    },
    {
      "cell_type": "code",
      "source": [
        "# Set manual seed\n",
        "random_seed = 0\n",
        "torch.manual_seed(random_seed)\n",
        "\n",
        "# Create two random tensors\n",
        "tensor_C = torch.rand(4, 4)\n",
        "tensor_D = torch.rand(1, 4)\n",
        "\n",
        "# Matrix multiply tensors\n",
        "torch.mm(tensor_C, tensor_D.T)"
      ],
      "metadata": {
        "colab": {
          "base_uri": "https://localhost:8080/"
        },
        "id": "5OwrRMiUyOw5",
        "outputId": "81d6febb-3f2e-46e9-cd49-a74364f962d7"
      },
      "execution_count": 5,
      "outputs": [
        {
          "output_type": "execute_result",
          "data": {
            "text/plain": [
              "tensor([[1.0123],\n",
              "        [1.0537],\n",
              "        [0.9933],\n",
              "        [0.3444]])"
            ]
          },
          "metadata": {},
          "execution_count": 5
        }
      ]
    },
    {
      "cell_type": "code",
      "source": [
        "# Set random seed on the GPU\n",
        "seed = 1234\n",
        "torch.manual_seed(random_seed)\n",
        "if torch.cuda.is_available():\n",
        "  torch.cuda.manual_seed(seed)"
      ],
      "metadata": {
        "id": "CgwQx7cO1q8Y"
      },
      "execution_count": 6,
      "outputs": []
    },
    {
      "cell_type": "code",
      "source": [
        "torch.manual_seed(1234)\n",
        "tensor_E = torch.rand(2, 3).to(\"cuda\")\n",
        "tensor_F = torch.rand(2, 3).to(\"cuda\")\n",
        "\n",
        "print(f\"Tensor E:\\n{tensor_E}\\n\")\n",
        "print(f\"Tensor F:\\n{tensor_F}\")"
      ],
      "metadata": {
        "colab": {
          "base_uri": "https://localhost:8080/"
        },
        "id": "niCsGqu12qE3",
        "outputId": "6ddb5250-84a0-481c-ed41-dbcc398e0732"
      },
      "execution_count": 10,
      "outputs": [
        {
          "output_type": "stream",
          "name": "stdout",
          "text": [
            "Tensor E:\n",
            "tensor([[0.0290, 0.4019, 0.2598],\n",
            "        [0.3666, 0.0583, 0.7006]], device='cuda:0')\n",
            "\n",
            "Tensor F:\n",
            "tensor([[0.0518, 0.4681, 0.6738],\n",
            "        [0.3315, 0.7837, 0.5631]], device='cuda:0')\n"
          ]
        }
      ]
    },
    {
      "cell_type": "code",
      "source": [
        "matmul_EF = torch.mm(tensor_E, tensor_F.T)"
      ],
      "metadata": {
        "id": "iTpiXlxY32DQ"
      },
      "execution_count": 12,
      "outputs": []
    },
    {
      "cell_type": "code",
      "source": [
        "torch.max(matmul_EF)"
      ],
      "metadata": {
        "colab": {
          "base_uri": "https://localhost:8080/"
        },
        "id": "6HISF5zd8O1_",
        "outputId": "6c8013ba-4bc0-46c9-ac5b-4f202cd5e086"
      },
      "execution_count": 13,
      "outputs": [
        {
          "output_type": "execute_result",
          "data": {
            "text/plain": [
              "tensor(0.5617, device='cuda:0')"
            ]
          },
          "metadata": {},
          "execution_count": 13
        }
      ]
    },
    {
      "cell_type": "code",
      "source": [
        "torch.min(matmul_EF)"
      ],
      "metadata": {
        "colab": {
          "base_uri": "https://localhost:8080/"
        },
        "id": "mfW8TfAy8gh2",
        "outputId": "7abce05e-3ace-4ecb-a92d-2a0d323e8ee2"
      },
      "execution_count": 14,
      "outputs": [
        {
          "output_type": "execute_result",
          "data": {
            "text/plain": [
              "tensor(0.3647, device='cuda:0')"
            ]
          },
          "metadata": {},
          "execution_count": 14
        }
      ]
    },
    {
      "cell_type": "code",
      "source": [
        "torch.argmax(matmul_EF)"
      ],
      "metadata": {
        "colab": {
          "base_uri": "https://localhost:8080/"
        },
        "id": "XWXuV0Lc8jKG",
        "outputId": "6dc80d8e-2084-4b5a-94c8-faab15a37c64"
      },
      "execution_count": 15,
      "outputs": [
        {
          "output_type": "execute_result",
          "data": {
            "text/plain": [
              "tensor(3, device='cuda:0')"
            ]
          },
          "metadata": {},
          "execution_count": 15
        }
      ]
    },
    {
      "cell_type": "code",
      "source": [
        "torch.argmin(matmul_EF)"
      ],
      "metadata": {
        "colab": {
          "base_uri": "https://localhost:8080/"
        },
        "id": "dkVy6c0q8niP",
        "outputId": "8bd99229-b692-4fc2-aa8a-f090dc4541bf"
      },
      "execution_count": 16,
      "outputs": [
        {
          "output_type": "execute_result",
          "data": {
            "text/plain": [
              "tensor(0, device='cuda:0')"
            ]
          },
          "metadata": {},
          "execution_count": 16
        }
      ]
    },
    {
      "cell_type": "code",
      "source": [
        "torch.manual_seed(7)\n",
        "tensor_G = torch.rand(1, 1, 1, 10)\n",
        "tensor_G, tensor_G.shape"
      ],
      "metadata": {
        "colab": {
          "base_uri": "https://localhost:8080/"
        },
        "id": "fwKxMYRD8quX",
        "outputId": "ef7c31aa-6083-49fa-dfe3-a4f8280389d8"
      },
      "execution_count": 28,
      "outputs": [
        {
          "output_type": "execute_result",
          "data": {
            "text/plain": [
              "(tensor([[[[0.5349, 0.1988, 0.6592, 0.6569, 0.2328, 0.4251, 0.2071, 0.6297,\n",
              "            0.3653, 0.8513]]]]),\n",
              " torch.Size([1, 1, 1, 10]))"
            ]
          },
          "metadata": {},
          "execution_count": 28
        }
      ]
    },
    {
      "cell_type": "code",
      "source": [
        "tensor_H = tensor_G.squeeze()"
      ],
      "metadata": {
        "id": "gr_4f1Mn80Pn"
      },
      "execution_count": 26,
      "outputs": []
    },
    {
      "cell_type": "code",
      "source": [
        "tensor_H, tensor_H.shape"
      ],
      "metadata": {
        "colab": {
          "base_uri": "https://localhost:8080/"
        },
        "id": "hk0FNtUU9b-3",
        "outputId": "54e29fc5-db76-4521-f7d4-6d10ea183c95"
      },
      "execution_count": 29,
      "outputs": [
        {
          "output_type": "execute_result",
          "data": {
            "text/plain": [
              "(tensor([0.5349, 0.1988, 0.6592, 0.6569, 0.2328, 0.4251, 0.2071, 0.6297, 0.3653,\n",
              "         0.8513]),\n",
              " torch.Size([10]))"
            ]
          },
          "metadata": {},
          "execution_count": 29
        }
      ]
    },
    {
      "cell_type": "code",
      "source": [],
      "metadata": {
        "id": "ivCjDN4M9d13"
      },
      "execution_count": null,
      "outputs": []
    }
  ]
}